{
 "cells": [
  {
   "cell_type": "code",
   "execution_count": null,
   "id": "27dfb9a3-9aca-491b-9522-c6cd24cd5749",
   "metadata": {},
   "outputs": [],
   "source": [
    "from transformers import AutoProcessor, AutoModelForVision2Seq\n",
    "import torch\n",
    "from PIL import Image\n",
    "\n",
    "device = \"cuda\" if torch.cuda.is_available() else \"cpu\"\n",
    "model = AutoModelForVision2Seq.from_pretrained(\"Qwen/Qwen-VL-Chat\", trust_remote_code=True).to(device)\n",
    "processor = AutoProcessor.from_pretrained(\"Qwen/Qwen-VL-Chat\", trust_remote_code=True)\n",
    "\n",
    "image = Image.open(\"path_to_your_bill.jpg\").convert(\"RGB\")\n",
    "\n",
    "prompt = \"Extract the following from the bill: date, total amount, merchant name, and list of items with their price.\"\n",
    "\n",
    "inputs = processor(text=prompt, images=image, return_tensors=\"pt\").to(device)\n",
    "generated_ids = model.generate(**inputs, max_new_tokens=512)\n",
    "generated_text = processor.batch_decode(generated_ids, skip_special_tokens=True)[0]\n",
    "print(generated_text)\n",
    "\n"
   ]
  }
 ],
 "metadata": {
  "kernelspec": {
   "display_name": "Python 3 (ipykernel)",
   "language": "python",
   "name": "python3"
  },
  "language_info": {
   "codemirror_mode": {
    "name": "ipython",
    "version": 3
   },
   "file_extension": ".py",
   "mimetype": "text/x-python",
   "name": "python",
   "nbconvert_exporter": "python",
   "pygments_lexer": "ipython3",
   "version": "3.11.5"
  }
 },
 "nbformat": 4,
 "nbformat_minor": 5
}
